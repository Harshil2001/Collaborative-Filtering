{
  "cells": [
    {
      "cell_type": "code",
      "execution_count": null,
      "metadata": {
        "id": "ZCrT274O_T2m"
      },
      "outputs": [],
      "source": [
        "# Importing the neccesary libraries\n",
        "\n",
        "import pandas as pd\n",
        "import numpy as np\n",
        "import os\n",
        "import math\n",
        "import sklearn\n",
        "from sklearn.metrics.pairwise import cosine_similarity\n",
        "from sklearn.metrics import mean_absolute_error, mean_squared_error"
      ]
    },
    {
      "cell_type": "code",
      "execution_count": null,
      "metadata": {
        "id": "wyLpDiVd_icz"
      },
      "outputs": [],
      "source": [
        "# Function for getting the data from the files\n",
        "\n",
        "def get_data(path):\n",
        "  f = open(path, \"r\")\n",
        "  theText = f.read()\n",
        "  dataArray = []  \n",
        "  for i in theText.split('\\n'):   \n",
        "    temp = []   \n",
        "    for j in i.split(\",\"):  \n",
        "      if not j:\n",
        "        continue\n",
        "      temp.append(j)\n",
        "    if not temp:\n",
        "      continue\n",
        "    dataArray.append(temp)\n",
        "  return dataArray"
      ]
    },
    {
      "cell_type": "code",
      "execution_count": null,
      "metadata": {
        "id": "XQwZHTlb_x1J"
      },
      "outputs": [],
      "source": [
        "# Formating the training data to our liking\n",
        "\n",
        "path = os.getcwd()\n",
        "path = os.path.join(path, 'TrainingRatings.txt')\n",
        "# training_data = get_data(\"/content/TrainingRatings.txt\")\n",
        "training_data = get_data(path)\n",
        "temp = []\n",
        "temp1 = []\n",
        "for i in training_data:\n",
        "  temp.append(int(i[0]))\n",
        "  temp1.append(int(i[1]))\n",
        "\n",
        "# Getting the unique user Ids in train data\n",
        "users = list(set(temp1))\n",
        "users.sort()\n",
        "users = dict(zip(users, list(range(len(users)))))\n",
        "\n",
        "# Getting the unique movie Ids in train data\n",
        "movies = list(set(temp))\n",
        "movies.sort()\n",
        "movies = dict(zip(movies, list(range(len(movies)))))\n",
        "\n",
        "train_data = np.zeros((len(users), len(movies)), dtype='int')\n",
        "reviewed = [[-1] * 1 for i in range(len(users))]\n",
        "\n",
        "for i in training_data:\n",
        "  m = int(i[0])\n",
        "  u = int(i[1])\n",
        "  Rating = int(float(i[2]))\n",
        "  movieIndex = movies[m]\n",
        "  userIndex = users[u]\n",
        "  train_data[userIndex][movieIndex] = Rating\n",
        "\n",
        "  if Rating != 0:\n",
        "    if reviewed[userIndex][0] != -1:\n",
        "      reviewed[userIndex].append(movieIndex)\n",
        "    else:\n",
        "      reviewed[userIndex].append(movieIndex)\n",
        "      reviewed[userIndex].remove(-1)\n",
        "\n",
        "mean = train_data.mean(axis=1)\n",
        "train_np = train_data - mean[:, np.newaxis]"
      ]
    },
    {
      "cell_type": "code",
      "execution_count": null,
      "metadata": {
        "id": "myCpwqS7EsDt"
      },
      "outputs": [],
      "source": [
        "# Formatting the testing data to our liking\n",
        "\n",
        "path = os.getcwd()\n",
        "path = os.path.join(path, 'TestingRatings.txt')\n",
        "# testing_data = get_data(\"/content/TestingRatings.txt\")\n",
        "testing_data = get_data(path)\n",
        "temp = []\n",
        "temp1 = []\n",
        "for i in testing_data:\n",
        "  temp1.append(int(i[1]))\n",
        "  temp.append(int(i[0]))\n",
        "\n",
        "# Getting the unique user Ids in test dat\n",
        "userY = list(set(temp1))\n",
        "userY.sort()\n",
        "usersY = dict(zip(userY, list(range(len(userY)))))\n",
        "\n",
        "# Storing the testing data that needs prediction\n",
        "needPred = [[-1] * 1 for i in range(len(userY))]\n",
        "count = 0\n",
        "test_data = np.zeros((len(userY), len(movies)), dtype='int')\n",
        "\n",
        "for i in testing_data:\n",
        "  m = int(i[0])\n",
        "  u = int(i[1])\n",
        "  Rating = int(float(i[2]))\n",
        "  movieIndex = movies[m]\n",
        "  userIndex = usersY[u]\n",
        "\n",
        "  if 0 != Rating:\n",
        "    count += 1\n",
        "    if (needPred[userIndex][0] != -1):\n",
        "      needPred[userIndex].append(movieIndex)\n",
        "    else:\n",
        "      needPred[userIndex].append(movieIndex)\n",
        "      needPred[userIndex].remove(-1)\n",
        "    test_data[userIndex][movieIndex] = Rating\n",
        "\n",
        "mean1 = test_data.mean(axis=1)\n",
        "test_np = test_data - mean1[:, np.newaxis]"
      ]
    },
    {
      "cell_type": "code",
      "execution_count": null,
      "metadata": {
        "id": "tgofET73Eudy"
      },
      "outputs": [],
      "source": [
        "# Calculating the weights using cosine_similarity function from sklearn\n",
        "\n",
        "weights = cosine_similarity(train_np, test_np)\n",
        "\n",
        "# Filtering the neighbours based on similarity for faster predictions\n",
        "knn = []\n",
        "for a in range(len(weights)):\n",
        "  c = [] \n",
        "  for i in range(len(weights[a])):\n",
        "    if weights[a][i] > 0.22:\n",
        "        c.append(i)\n",
        "  knn.append(c)"
      ]
    },
    {
      "cell_type": "code",
      "execution_count": null,
      "metadata": {
        "id": "bwBfBmTCEUFR"
      },
      "outputs": [],
      "source": [
        "# Predicting the ratings using the weights learned\n",
        "\n",
        "pred = np.zeros((len(userY), len(movies)), dtype='int')\n",
        "for u in userY:\n",
        "  a = users[u]\n",
        "  ind = usersY[u]\n",
        "  for j in needPred[ind]:\n",
        "    kappa = np.sum(weights[ind])\n",
        "    s = 0\n",
        "    if kappa != 0:\n",
        "      kappa = np.reciprocal(kappa)\n",
        "    for i in knn[a]:\n",
        "      t = np.multiply(kappa, weights[i][j])\n",
        "      c = train_data[i][j] - mean[i]\n",
        "      s += np.multiply(t, c)\n",
        "    prediction = mean[a] + s\n",
        "    try:\n",
        "      pred[ind][j] = prediction\n",
        "    except Exception as e:\n",
        "      pred[ind][j] = mean[a]"
      ]
    },
    {
      "cell_type": "code",
      "execution_count": null,
      "metadata": {
        "id": "_jWHLHYH1N9A"
      },
      "outputs": [],
      "source": [
        "# Evaluations\n",
        "\n",
        "#Mean Absolute Error\n",
        "diff = np.abs(pred - test_data)\n",
        "sum1 = np.sum(diff)\n",
        "err = np.sqrt(sum1 / count)\n",
        "print('MAE: ', err)\n",
        "\n",
        "#Root Mean Squared Error\n",
        "diff = np.abs(np.square(pred) - np.square(test_data))\n",
        "sum1 = np.sum(diff)\n",
        "err = np.sqrt(sum1 / count)\n",
        "print('RMSE: ', err)"
      ]
    }
  ],
  "metadata": {
    "colab": {
      "provenance": []
    },
    "kernelspec": {
      "display_name": "Python 3",
      "name": "python3"
    },
    "language_info": {
      "name": "python"
    }
  },
  "nbformat": 4,
  "nbformat_minor": 0
}